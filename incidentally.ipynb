{
 "cells": [
  {
   "cell_type": "markdown",
   "metadata": {},
   "source": [
    "## DATASETS CREATED FOR INCIDENTALLY\n",
    "### Important: Code has not been cleaned"
   ]
  },
  {
   "cell_type": "code",
   "execution_count": null,
   "metadata": {},
   "outputs": [],
   "source": [
    "import pandas as pd\n",
    "import os\n",
    "import json\n",
    "import xml.etree.ElementTree as ET"
   ]
  },
  {
   "cell_type": "code",
   "execution_count": null,
   "metadata": {},
   "outputs": [],
   "source": [
    "df_bills = pd.read_csv('df_bills_fv.tsv', sep='\\t')\n",
    "cols = ['congress', 'bill_number']\n",
    "df_bill = df_bills[cols]\n",
    "df_bill[['bill', 'number']] = df_bill['bill_number'].str.extract(r'([a-zA-Z]+)([0-9]+)')\n",
    "\n",
    "df_bill = df_bill.drop_duplicates()"
   ]
  },
  {
   "cell_type": "code",
   "execution_count": null,
   "metadata": {},
   "outputs": [],
   "source": [
    "def get_cosponsor(congress, bill, bill_number):\n",
    "    try:\n",
    "        xml_file_path = f\"congress/{congress}/{bill}/{bill_number}/fdsys_billstatus.xml\"\n",
    "        if os.path.exists(xml_file_path):\n",
    "            tree = ET.parse(xml_file_path)\n",
    "            root = tree.getroot()\n",
    "            cosponsors = root.find('.//cosponsors')\n",
    "            if cosponsors is not None:\n",
    "                name_list = []\n",
    "                for name in cosponsors.findall('.//fullName'):\n",
    "                    if name is not None:\n",
    "                        name = name.text.strip()\n",
    "                        name_list.append(name)\n",
    "                    else:\n",
    "                        print('Text element not found in XML.')\n",
    "                name_list = list(set(name_list))\n",
    "                return name_list\n",
    "            else:\n",
    "                print('Sponsor element not found in XML:', congress, bill_number)\n",
    "                return None\n",
    "        else:\n",
    "            file_path = f\"congress/{congress}/{bill}/{bill_number}/data.json\"\n",
    "            if os.path.exists(file_path):\n",
    "                with open(file_path, 'r') as f:\n",
    "                    data = json.load(f)\n",
    "                    if 'cosponsors' in data:\n",
    "                        cosponsors = [sponsor['name'] for sponsor in data['cosponsors']]\n",
    "                        return cosponsors\n",
    "                    else:\n",
    "                        print('No sponsors found for the bill:', congress, bill_number)\n",
    "                        return None\n",
    "            else:\n",
    "                print('Following bill could not be found:', congress, bill_number)\n",
    "                return None\n",
    "    except Exception as e:\n",
    "        print('An error occurred while processing the bill:', congress, bill_number)\n",
    "        print(e)\n",
    "        return None\n",
    "df_bill['cosponsors'] = df_bill.apply(lambda row: get_cosponsor(row['congress'], row['bill'], row['bill_number']), axis=1)\n",
    "\n",
    "def get_cosponsor_id(congress, bill, bill_number):\n",
    "    try:\n",
    "        xml_file_path = f\"congress/{congress}/{bill}/{bill_number}/fdsys_billstatus.xml\"\n",
    "        if os.path.exists(xml_file_path):\n",
    "            tree = ET.parse(xml_file_path)\n",
    "            root = tree.getroot()\n",
    "            cosponsors = root.find('.//cosponsors')\n",
    "            if cosponsors is not None:\n",
    "                id_list = []\n",
    "                for id in cosponsors.findall('.//bioguideId'):\n",
    "                    if id is not None:\n",
    "                        id = id.text.strip()\n",
    "                        id_list.append(id)\n",
    "                    else:\n",
    "                        print('Text element not found in XML.')\n",
    "                id_list = list(set(id_list))\n",
    "                return id_list\n",
    "            else:\n",
    "                print('Sponsor element not found in XML:', congress, bill_number)\n",
    "                return None\n",
    "        else:\n",
    "            file_path = f\"congress/{congress}/{bill}/{bill_number}/data.json\"\n",
    "            if os.path.exists(file_path):\n",
    "                with open(file_path, 'r') as f:\n",
    "                    data = json.load(f)\n",
    "                    if 'cosponsors' in data:\n",
    "                        cosponsors = [sponsor['thomas_id'] for sponsor in data['cosponsors']]\n",
    "                        return cosponsors\n",
    "                    else:\n",
    "                        print('No sponsors found for the bill:', congress, bill_number)\n",
    "                        return None\n",
    "            else:\n",
    "                print('Following bill could not be found:', congress, bill_number)\n",
    "                return None\n",
    "    except Exception as e:\n",
    "        print('An error occurred while processing the bill:', congress, bill_number)\n",
    "        print(e)\n",
    "        return None\n",
    "df_bill['cosponsors_id'] = df_bill.apply(lambda row: get_cosponsor_id(row['congress'], row['bill'], row['bill_number']), axis=1)\n",
    "\n",
    "def get_cosponsor_party(congress, bill, bill_number):\n",
    "    try:\n",
    "        xml_file_path = f\"congress/{congress}/{bill}/{bill_number}/fdsys_billstatus.xml\"\n",
    "        if os.path.exists(xml_file_path):\n",
    "            tree = ET.parse(xml_file_path)\n",
    "            root = tree.getroot()\n",
    "            cosponsors = root.find('.//cosponsors')\n",
    "            if cosponsors is not None:\n",
    "                party_list = []\n",
    "                for party in cosponsors.findall('.//party'):\n",
    "                    if party is not None:\n",
    "                        party = party.text.strip()\n",
    "                        party_list.append(party)\n",
    "                    else:\n",
    "                        print('Text element not found in XML.')\n",
    "                party_list = list(set(party_list))\n",
    "                return party_list\n",
    "            else:\n",
    "                print('Sponsor element not found in XML:', congress, bill_number)\n",
    "                return None\n",
    "        else:\n",
    "            print('Following bill could not be found:', congress, bill_number)\n",
    "            return None\n",
    "    except Exception as e:\n",
    "        print('An error occurred while processing the bill:', congress, bill_number)\n",
    "        print(e)\n",
    "        return None\n",
    "df_bill['cosponsors_party'] = df_bill.apply(lambda row: get_cosponsor_party(row['congress'], row['bill'], row['bill_number']), axis=1)"
   ]
  },
  {
   "cell_type": "code",
   "execution_count": null,
   "metadata": {},
   "outputs": [],
   "source": [
    "def get_sponsor(congress, bill, bill_number):\n",
    "    try:\n",
    "        xml_file_path = f\"congress/{congress}/{bill}/{bill_number}/fdsys_billstatus.xml\"\n",
    "        if os.path.exists(xml_file_path):\n",
    "            tree = ET.parse(xml_file_path)\n",
    "            root = tree.getroot()\n",
    "            sponsors = root.find('.//sponsors')\n",
    "            if sponsors is not None:\n",
    "                name_list = []\n",
    "                for name in sponsors.findall('.//fullName'):\n",
    "                    if name is not None:\n",
    "                        name = name.text.strip()\n",
    "                        name_list.append(name)\n",
    "                    else:\n",
    "                        print('Text element not found in XML.')\n",
    "                name_list = list(set(name_list))\n",
    "                return name_list\n",
    "            else:\n",
    "                print('Sponsor element not found in XML:', congress, bill_number)\n",
    "                return None\n",
    "        else:        \n",
    "            file_path = f\"congress/{congress}/{bill}/{bill_number}/data.json\"\n",
    "            if os.path.exists(file_path):\n",
    "                with open(file_path, 'r') as f:\n",
    "                    data = json.load(f)\n",
    "                    name = data['sponsor']['name']\n",
    "                    return name\n",
    "            else:\n",
    "                print('Following bill could not be found:', congress, bill_number)\n",
    "                return None\n",
    "    except Exception as e:\n",
    "        print('An error occurred while processing the bill:', congress, bill_number)\n",
    "        print(e)\n",
    "        return None\n",
    "df_bill['sponsors'] = df_bill.apply(lambda row: get_sponsor(row['congress'], row['bill'], row['bill_number']), axis=1)\n",
    "\n",
    "def get_sponsor_id(congress, bill, bill_number):\n",
    "    try:\n",
    "        xml_file_path = f\"congress/{congress}/{bill}/{bill_number}/fdsys_billstatus.xml\"\n",
    "        if os.path.exists(xml_file_path):\n",
    "            tree = ET.parse(xml_file_path)\n",
    "            root = tree.getroot()\n",
    "            sponsors = root.find('.//sponsors')\n",
    "            if sponsors is not None:\n",
    "                id_list = []\n",
    "                for id in sponsors.findall('.//bioguideId'):\n",
    "                    if id is not None:\n",
    "                        id = id.text.strip()\n",
    "                        id_list.append(id)\n",
    "                    else:\n",
    "                        print('Text element not found in XML.')\n",
    "                id_list = list(set(id_list))\n",
    "                return id_list\n",
    "            else:\n",
    "                print('Sponsor element not found in XML:', congress, bill_number)\n",
    "                return None\n",
    "        else:        \n",
    "            file_path = f\"congress/{congress}/{bill}/{bill_number}/data.json\"\n",
    "            if os.path.exists(file_path):\n",
    "                with open(file_path, 'r') as f:\n",
    "                    data = json.load(f)\n",
    "                    id = data['sponsor']['thomas_id']\n",
    "                    return id\n",
    "            else:\n",
    "                print('Following bill could not be found:', congress, bill_number)\n",
    "                return None\n",
    "    except Exception as e:\n",
    "        print('An error occurred while processing the bill:', congress, bill_number)\n",
    "        print(e)\n",
    "        return None\n",
    "df_bill['sponsors_id'] = df_bill.apply(lambda row: get_sponsor_id(row['congress'], row['bill'], row['bill_number']), axis=1)\n",
    "\n",
    "def get_sponsor_party(congress, bill, bill_number):\n",
    "    try:\n",
    "        xml_file_path = f\"congress/{congress}/{bill}/{bill_number}/fdsys_billstatus.xml\"\n",
    "        if os.path.exists(xml_file_path):\n",
    "            tree = ET.parse(xml_file_path)\n",
    "            root = tree.getroot()\n",
    "            sponsors = root.find('.//sponsors')\n",
    "            if sponsors is not None:\n",
    "                party_list = []\n",
    "                for party in sponsors.findall('.//party'):\n",
    "                    if party is not None:\n",
    "                        party = party.text.strip()\n",
    "                        party_list.append(party)\n",
    "                    else:\n",
    "                        print('Text element not found in XML.')\n",
    "                party_list = list(set(party_list))\n",
    "                return party_list\n",
    "            else:\n",
    "                print('Sponsor element not found in XML:', congress, bill_number)\n",
    "                return None\n",
    "        else:\n",
    "            print('Following bill could not be found:', congress, bill_number)\n",
    "            return None\n",
    "    except Exception as e:\n",
    "        print('An error occurred while processing the bill:', congress, bill_number)\n",
    "        print(e)\n",
    "        return None\n",
    "df_bill['sponsors_party'] = df_bill.apply(lambda row: get_sponsor_party(row['congress'], row['bill'], row['bill_number']), axis=1)"
   ]
  },
  {
   "cell_type": "code",
   "execution_count": null,
   "metadata": {},
   "outputs": [],
   "source": [
    "df_bill_112 = df_bill[df_bill['congress'] < 113]\n",
    "df_bill_113 = df_bill[df_bill['congress'] > 112]"
   ]
  },
  {
   "cell_type": "code",
   "execution_count": null,
   "metadata": {},
   "outputs": [],
   "source": [
    "df_bill_112['sponsor_list'] = df_bill_112.apply(lambda row: row['cosponsors'] + [row['sponsors']], axis=1)\n",
    "df_bill_112"
   ]
  },
  {
   "cell_type": "code",
   "execution_count": null,
   "metadata": {},
   "outputs": [],
   "source": [
    "df_bill_112['sponsorid_list'] = df_bill_112.apply(lambda row: row['cosponsors_id'] + [row['sponsors_id']], axis=1)\n",
    "df_bill_112"
   ]
  },
  {
   "cell_type": "code",
   "execution_count": null,
   "metadata": {},
   "outputs": [],
   "source": [
    "df_bill_112.drop(columns=['cosponsors', 'sponsors', 'cosponsors_id', 'sponsors_id'], inplace=True)\n",
    "df_bill_112"
   ]
  },
  {
   "cell_type": "code",
   "execution_count": null,
   "metadata": {},
   "outputs": [],
   "source": [
    "df_bill_112.drop(columns=['cosponsors_party', 'sponsors_party'], inplace=True)\n",
    "df_bill_112"
   ]
  },
  {
   "cell_type": "code",
   "execution_count": null,
   "metadata": {},
   "outputs": [],
   "source": [
    "df_bill_112['conbill'] = df_bill_112['congress'].astype(str) + '-' + df_bill_112['bill_number']\n",
    "df_bill_112"
   ]
  },
  {
   "cell_type": "code",
   "execution_count": null,
   "metadata": {},
   "outputs": [],
   "source": [
    "df_bill_112[df_bill_112['congress'] == 111]"
   ]
  },
  {
   "cell_type": "code",
   "execution_count": null,
   "metadata": {},
   "outputs": [],
   "source": [
    "all_bills = df_bill['conbill'].unique()\n",
    "all_sponsors = list(set(name for sublist in df_bill['sponsor_list'] for name in sublist))\n",
    "\n",
    "# Create a matrix DataFrame with rows representing sponsors and columns representing bills\n",
    "matrix = pd.DataFrame(0, index=all_sponsors, columns=all_bills)\n",
    "\n",
    "# Iterate over each row in the original DataFrame and update the matrix DataFrame accordingly\n",
    "for idx, row in df_bill.iterrows():\n",
    "    bill_number = row['conbill']\n",
    "    sponsors = row['sponsor_list']\n",
    "    for sponsor in sponsors:\n",
    "        matrix.loc[sponsor, bill_number] = 1\n",
    "\n",
    "matrix_filename = f'matrix_congress_108.csv'\n",
    "matrix.to_csv(matrix_filename)"
   ]
  },
  {
   "cell_type": "code",
   "execution_count": null,
   "metadata": {},
   "outputs": [],
   "source": [
    "import warnings\n",
    "\n",
    "# Suppress all warnings\n",
    "warnings.filterwarnings('ignore')\n",
    "\n",
    "for congress, sub_df in df_bill_112.groupby('congress'):\n",
    "    # Generate a matrix for the sub-DataFrame\n",
    "    all_bills = sub_df['bill_number'].unique()\n",
    "    all_sponsors = list(set(name for sublist in sub_df['sponsor_list'] for name in sublist))\n",
    "    matrix = pd.DataFrame(0, index=all_sponsors, columns=all_bills)\n",
    "    for idx, row in sub_df.iterrows():\n",
    "        bill_number = row['bill_number']\n",
    "        sponsors = row['sponsor_list']\n",
    "        for sponsor in sponsors:\n",
    "            matrix.loc[sponsor, bill_number] = 1\n",
    "    \n",
    "    # Save the matrix as a CSV file\n",
    "    matrix_filename = f'matrix_congress_{congress}.csv'\n",
    "    matrix.to_csv(matrix_filename)\n",
    "    print(f\"Matrix for Congress {congress} saved as '{matrix_filename}'\")"
   ]
  },
  {
   "cell_type": "code",
   "execution_count": null,
   "metadata": {},
   "outputs": [],
   "source": [
    "df_legis = pd.read_csv('legislators-current.csv', sep=',')\n",
    "df_legis_his = pd.read_csv('legislators-historical.csv', sep=',')\n",
    "cols = ['thomas_id', 'party', 'full_name']\n",
    "df_legis = df_legis[cols]\n",
    "df_legis_his = df_legis_his[cols]\n",
    "df_legis = pd.concat([df_legis, df_legis_his], ignore_index=True)\n",
    "df_legis = df_legis.dropna(subset=['thomas_id'])\n",
    "df_legis"
   ]
  },
  {
   "cell_type": "code",
   "execution_count": null,
   "metadata": {},
   "outputs": [],
   "source": [
    "df_legis['thomas_id'] = df_legis['thomas_id'].astype(int).astype(str).str.zfill(5)\n",
    "df_legis"
   ]
  },
  {
   "cell_type": "code",
   "execution_count": null,
   "metadata": {},
   "outputs": [],
   "source": [
    "df_legislators = pd.DataFrame(columns=['congress', 'name', 'thomas_id'])\n",
    "\n",
    "for index, row in df_bill_112.iterrows():\n",
    "    values_a = row['sponsor_list']\n",
    "    values_b = row['sponsorid_list']\n",
    "    congress = row['congress']\n",
    "\n",
    "    for value_a, value_b in zip(values_a, values_b):\n",
    "        df_legislators.loc[len(df_legislators)] = [congress, value_a, value_b]\n",
    "\n",
    "df_legislators"
   ]
  },
  {
   "cell_type": "code",
   "execution_count": null,
   "metadata": {},
   "outputs": [],
   "source": [
    "df_legislators = df_legislators.drop_duplicates()\n",
    "df_legislators"
   ]
  },
  {
   "cell_type": "code",
   "execution_count": null,
   "metadata": {},
   "outputs": [],
   "source": [
    "df_l = pd.merge(df_legislators, df_legis, on=['thomas_id'], how='left')\n",
    "df_l"
   ]
  },
  {
   "cell_type": "code",
   "execution_count": null,
   "metadata": {},
   "outputs": [],
   "source": [
    "df_l.loc[df_l['thomas_id'] == '02029', 'party'] = 'Republican'"
   ]
  },
  {
   "cell_type": "code",
   "execution_count": null,
   "metadata": {},
   "outputs": [],
   "source": [
    "df_l.drop(columns=['full_name'], inplace=True)\n",
    "df_l"
   ]
  },
  {
   "cell_type": "code",
   "execution_count": null,
   "metadata": {},
   "outputs": [],
   "source": [
    "party_name = {'Democrat': 'D', 'Republican': 'R', 'Conservative': 'R', 'Popular Democrat': 'D', 'Independent': 'I', 'Democrat-Liberal': 'D', \n",
    "              'Republican-Conservative': 'R', 'New Progressive': 'D'}\n",
    "\n",
    "df_l['party'] = df_l['party'].map(party_name)\n",
    "df_l['party'].unique()"
   ]
  },
  {
   "cell_type": "code",
   "execution_count": null,
   "metadata": {},
   "outputs": [],
   "source": [
    "df_l = df_l.dropna(subset=['name'])"
   ]
  },
  {
   "cell_type": "code",
   "execution_count": null,
   "metadata": {},
   "outputs": [],
   "source": [
    "for congress, sub_df in df_l.groupby('congress'):\n",
    "    sub_df.to_csv(f'legislators_{congress}.csv', index=False)\n",
    "    print(f\"file for Congress {congress} saved'\")"
   ]
  },
  {
   "cell_type": "code",
   "execution_count": null,
   "metadata": {},
   "outputs": [],
   "source": [
    "df_bill_112"
   ]
  },
  {
   "cell_type": "code",
   "execution_count": null,
   "metadata": {},
   "outputs": [],
   "source": [
    "def extract_last_item(lst):\n",
    "    if lst:\n",
    "        return lst[-1]\n",
    "    else:\n",
    "        return None\n",
    "\n",
    "# Apply the function to each row and assign the result to a new column\n",
    "df_bill_112['thomas_id'] = df_bill_112['sponsorid_list'].apply(extract_last_item)\n",
    "df_bill_112"
   ]
  },
  {
   "cell_type": "code",
   "execution_count": null,
   "metadata": {},
   "outputs": [],
   "source": [
    "df_bill_112[df_bill_112['thomas_id'].isna()]"
   ]
  },
  {
   "cell_type": "code",
   "execution_count": null,
   "metadata": {},
   "outputs": [],
   "source": [
    "cols = ['thomas_id', 'party']\n",
    "df = df_l[cols]\n",
    "df = df.drop_duplicates()\n",
    "bills = pd.merge(df_bill_112, df, on=['thomas_id'], how='left')\n",
    "bills"
   ]
  },
  {
   "cell_type": "code",
   "execution_count": null,
   "metadata": {},
   "outputs": [],
   "source": [
    "bills.drop(columns=['sponsor_list', 'sponsorid_list', 'bill', 'number', 'conbill'], inplace=True)\n",
    "bills"
   ]
  },
  {
   "cell_type": "code",
   "execution_count": null,
   "metadata": {},
   "outputs": [],
   "source": [
    "bills.drop(columns=['thomas_id'], inplace=True)\n",
    "bills.rename(columns={'party': 'sponsor_party'}, inplace=True)\n",
    "bills"
   ]
  },
  {
   "cell_type": "code",
   "execution_count": null,
   "metadata": {},
   "outputs": [],
   "source": [
    "df_bill_113['sponsor_list'] = df_bill_113.apply(lambda row: row['cosponsors'] + row['sponsors'] if row['cosponsors'] is not None else row['sponsors'], axis=1)\n",
    "df_bill_113['sponsorid_list'] = df_bill_113.apply(lambda row: row['cosponsors_id'] + row['sponsors_id'] if row['cosponsors_id'] is not None else row['sponsors_id'], axis=1)\n",
    "\n",
    "df_bill_113"
   ]
  },
  {
   "cell_type": "code",
   "execution_count": null,
   "metadata": {},
   "outputs": [],
   "source": [
    "df_bill_113.drop(columns=['cosponsors', 'cosponsors_id', 'cosponsors_party', 'sponsors', 'sponsors_id', 'sponsors_party', 'sponsorparty_list'], inplace=True)\n",
    "df_bill_113"
   ]
  },
  {
   "cell_type": "code",
   "execution_count": null,
   "metadata": {},
   "outputs": [],
   "source": [
    "import warnings\n",
    "\n",
    "# Suppress all warnings\n",
    "warnings.filterwarnings('ignore')\n",
    "\n",
    "for congress, sub_df in df_bill_113.groupby('congress'):\n",
    "    # Generate a matrix for the sub-DataFrame\n",
    "    all_bills = sub_df['bill_number'].unique()\n",
    "    all_sponsors = list(set(name for sublist in sub_df['sponsor_list'] for name in sublist))\n",
    "    matrix = pd.DataFrame(0, index=all_sponsors, columns=all_bills)\n",
    "    for idx, row in sub_df.iterrows():\n",
    "        bill_number = row['bill_number']\n",
    "        sponsors = row['sponsor_list']\n",
    "        for sponsor in sponsors:\n",
    "            matrix.loc[sponsor, bill_number] = 1\n",
    "    \n",
    "    # Save the matrix as a CSV file\n",
    "    matrix_filename = f'matrix_congress_{congress}.csv'\n",
    "    matrix.to_csv(matrix_filename)\n",
    "    print(f\"Matrix for Congress {congress} saved as '{matrix_filename}'\")"
   ]
  },
  {
   "cell_type": "code",
   "execution_count": null,
   "metadata": {},
   "outputs": [],
   "source": [
    "cols = ['congress', 'bill_number', 'bill', 'number']\n",
    "df_bill_113 = df_bill_113[cols]\n",
    "df_bill_113"
   ]
  },
  {
   "cell_type": "code",
   "execution_count": null,
   "metadata": {},
   "outputs": [],
   "source": [
    "def get_cosponsor(congress, bill, bill_number):\n",
    "    try:\n",
    "        xml_file_path = f\"congress/{congress}/{bill}/{bill_number}/fdsys_billstatus.xml\"\n",
    "        if os.path.exists(xml_file_path):\n",
    "            tree = ET.parse(xml_file_path)\n",
    "            root = tree.getroot()\n",
    "            cosponsor_data = {'congress': congress,\n",
    "                              'bill_number': bill_number,\n",
    "                              'id': [],\n",
    "                              'name': [],\n",
    "                              'party': []}\n",
    "            cosponsors = root.find('.//sponsors')\n",
    "            if cosponsors is not None:\n",
    "                for item in cosponsors.findall('.//item'):\n",
    "                    # print(item.find('bioguideId').text)\n",
    "                    cosponsor_data['id'].append(item.find('bioguideId').text)\n",
    "                    cosponsor_data['name'].append(item.find('fullName').text)\n",
    "                    cosponsor_data['party'].append(item.find('party').text)\n",
    "\n",
    "                df_cosponsors = pd.DataFrame(cosponsor_data)\n",
    "\n",
    "                return df_cosponsors\n",
    "            else:\n",
    "                print('Sponsor element not found in XML:', congress, bill_number)\n",
    "                return None\n",
    "        else:\n",
    "            print('Following bill could not be found:', congress, bill_number)\n",
    "            return None\n",
    "    except Exception as e:\n",
    "        print('An error occurred while processing the bill:', congress, bill_number)\n",
    "        print(e)\n",
    "        return None\n",
    "\n",
    "dfs = []\n",
    "for index, row in df_bill_113.iterrows():\n",
    "    cosponsor_df = get_cosponsor(row['congress'], row['bill'], row['bill_number'])\n",
    "    if cosponsor_df is not None:\n",
    "        dfs.append(cosponsor_df)\n",
    "\n",
    "df_combined_sponsors = pd.concat(dfs, ignore_index=True)\n",
    "\n",
    "\n",
    "#df_test = df_bill_113.apply(lambda row: get_cosponsor(row['congress'], row['bill'], row['bill_number']), axis=1)"
   ]
  },
  {
   "cell_type": "code",
   "execution_count": null,
   "metadata": {},
   "outputs": [],
   "source": [
    "df_combined_sponsors\n",
    "df_combined_cosponsors"
   ]
  },
  {
   "cell_type": "code",
   "execution_count": null,
   "metadata": {},
   "outputs": [],
   "source": [
    "df_combined = pd.concat([df_combined_sponsors, df_combined_cosponsors], ignore_index=True)\n",
    "df_combined"
   ]
  },
  {
   "cell_type": "code",
   "execution_count": null,
   "metadata": {},
   "outputs": [],
   "source": [
    "df_combined = df_combined.drop_duplicates()\n",
    "df_combined"
   ]
  },
  {
   "cell_type": "code",
   "execution_count": null,
   "metadata": {},
   "outputs": [],
   "source": [
    "cols = ['congress', 'name', 'id', 'party']\n",
    "df_legislators = df_combined[cols]\n",
    "df_legislators"
   ]
  },
  {
   "cell_type": "code",
   "execution_count": null,
   "metadata": {},
   "outputs": [],
   "source": [
    "df_legislators = df_legislators.drop_duplicates()\n",
    "df_legislators"
   ]
  },
  {
   "cell_type": "code",
   "execution_count": null,
   "metadata": {},
   "outputs": [],
   "source": [
    "for congress, sub_df in df_legislators.groupby('congress'):\n",
    "    sub_df.to_csv(f'legislators_{congress}.csv', index=False)\n",
    "    print(f\"file for Congress {congress} saved'\")"
   ]
  },
  {
   "cell_type": "code",
   "execution_count": null,
   "metadata": {},
   "outputs": [],
   "source": [
    "df_combined_sponsors\n",
    "\n",
    "cols = ['topic', 'congress', 'bill_number']\n",
    "topics = df_bills[cols]\n",
    "topics\n",
    "bill_topic = pd.merge(df_combined_sponsors, topics, on=['congress', 'bill_number'], how='left')\n",
    "bill_topic"
   ]
  },
  {
   "cell_type": "code",
   "execution_count": null,
   "metadata": {},
   "outputs": [],
   "source": [
    "bill_topic.drop(columns=['id', 'name'])\n",
    "bill_topic.rename(columns={'party':'sponsor_party'}, inplace=True)\n",
    "bill_topic"
   ]
  },
  {
   "cell_type": "code",
   "execution_count": null,
   "metadata": {},
   "outputs": [],
   "source": [
    "bill_topic = bill_topic.drop_duplicates()\n",
    "bill_topic"
   ]
  },
  {
   "cell_type": "code",
   "execution_count": null,
   "metadata": {},
   "outputs": [],
   "source": [
    "for congress, sub_df in bill_topic.groupby('congress'):\n",
    "    sub_df.to_csv(f'bills_{congress}.csv', index=False)\n",
    "    print(f\"file for bills {congress} saved'\")"
   ]
  },
  {
   "cell_type": "markdown",
   "metadata": {},
   "source": [
    "## ADD NOMINATE SCORES"
   ]
  },
  {
   "cell_type": "code",
   "execution_count": null,
   "metadata": {},
   "outputs": [],
   "source": [
    "topic_dm = pd.read_csv('df_bills_topic_dm.tsv', sep='\\t')\n",
    "topic_enr = pd.read_csv('df_bills_topic_enr.tsv', sep='\\t')\n",
    "topic_gba = pd.read_csv('df_bills_topic_gba.tsv', sep='\\t')\n",
    "topic_id = pd.read_csv('df_bills_topic_id.tsv', sep='\\t')\n",
    "topic_irg = pd.read_csv('df_bills_topic_irg.tsv', sep='\\t')\n",
    "topic_lp = pd.read_csv('df_bills_topic_lp.tsv', sep='\\t')\n",
    "topic_sspw = pd.read_csv('df_bills_topic_sspw.tsv', sep='\\t')\n",
    "topic_dm['nameparty_id'] = topic_dm.index\n",
    "topic_enr['nameparty_id'] = topic_enr.index\n",
    "topic_gba['nameparty_id'] = topic_gba.index\n",
    "topic_id['nameparty_id'] = topic_id.index\n",
    "topic_irg['nameparty_id'] = topic_irg.index\n",
    "topic_lp['nameparty_id'] = topic_lp.index\n",
    "topic_sspw['nameparty_id'] = topic_sspw.index"
   ]
  },
  {
   "cell_type": "code",
   "execution_count": null,
   "metadata": {},
   "outputs": [],
   "source": [
    "topic_dm"
   ]
  },
  {
   "cell_type": "code",
   "execution_count": null,
   "metadata": {},
   "outputs": [],
   "source": [
    "topic_dm['topic'] = 'defense and military'\n",
    "topic_enr['topic'] = 'environmental and natural resources'\n",
    "topic_gba['topic'] = 'government budget and administration'\n",
    "topic_id['topic'] = 'infrastructure and development'\n",
    "topic_irg['topic'] = 'international relations and government'\n",
    "topic_lp['topic'] = 'legislation and policy'\n",
    "topic_sspw['topic'] = 'social services and public welfare'\n",
    "\n",
    "cols = ['coord1D', 'coord2D', 'nameparty_id', 'topic']\n",
    "topic_dm = topic_dm[cols]\n",
    "topic_enr = topic_enr[cols]\n",
    "topic_gba = topic_gba[cols]\n",
    "topic_id = topic_id[cols]\n",
    "topic_irg = topic_irg[cols]\n",
    "topic_lp = topic_lp[cols]\n",
    "topic_sspw = topic_sspw[cols]\n",
    "\n",
    "topic_dm.rename(columns={'coord1D':'NOM1D', 'coord2D': 'NOM2D'}, inplace=True)\n",
    "topic_enr.rename(columns={'coord1D':'NOM1D', 'coord2D': 'NOM2D'}, inplace=True)\n",
    "topic_gba.rename(columns={'coord1D':'NOM1D', 'coord2D': 'NOM2D'}, inplace=True)\n",
    "topic_id.rename(columns={'coord1D':'NOM1D', 'coord2D': 'NOM2D'}, inplace=True)\n",
    "topic_irg.rename(columns={'coord1D':'NOM1D', 'coord2D': 'NOM2D'}, inplace=True)\n",
    "topic_lp.rename(columns={'coord1D':'NOM1D', 'coord2D': 'NOM2D'}, inplace=True)\n",
    "topic_sspw.rename(columns={'coord1D':'NOM1D', 'coord2D': 'NOM2D'}, inplace=True)"
   ]
  },
  {
   "cell_type": "code",
   "execution_count": null,
   "metadata": {},
   "outputs": [],
   "source": [
    "df_topic = pd.concat([topic_dm, topic_enr, topic_gba, topic_id, topic_irg, topic_lp, topic_sspw])\n",
    "df_topic"
   ]
  },
  {
   "cell_type": "code",
   "execution_count": null,
   "metadata": {},
   "outputs": [],
   "source": [
    "df_mv = pd.read_csv('df_member_votes_fv_with_topics_3.tsv', sep='\\t')\n",
    "df_mv"
   ]
  },
  {
   "cell_type": "code",
   "execution_count": null,
   "metadata": {},
   "outputs": [],
   "source": [
    "df_mv.rename(columns={'topic_with_coherence':'topic'}, inplace=True)\n",
    "df_mv"
   ]
  },
  {
   "cell_type": "code",
   "execution_count": null,
   "metadata": {},
   "outputs": [],
   "source": [
    "df_mv = pd.merge(df_mv, df_topic, on=['nameparty_id', 'topic'], how='left')\n",
    "df_mv"
   ]
  },
  {
   "cell_type": "code",
   "execution_count": null,
   "metadata": {},
   "outputs": [],
   "source": [
    "with open(\"df_member_votes_fv_with_topics_3_nominate.tsv\", \"w+\") as f:\n",
    "    df_mv.to_csv(f, sep=\"\\t\", index=None)"
   ]
  },
  {
   "cell_type": "code",
   "execution_count": null,
   "metadata": {},
   "outputs": [],
   "source": [
    "df_mv['NOM1D'].isna().sum()"
   ]
  },
  {
   "cell_type": "code",
   "execution_count": null,
   "metadata": {},
   "outputs": [],
   "source": [
    "df_members = pd.read_csv('df_members_fv.tsv', sep='\\t')\n",
    "df_members"
   ]
  },
  {
   "cell_type": "code",
   "execution_count": null,
   "metadata": {},
   "outputs": [],
   "source": [
    "df_members['nameparty_id'].value_counts()"
   ]
  },
  {
   "cell_type": "code",
   "execution_count": null,
   "metadata": {},
   "outputs": [],
   "source": [
    "df_mem = pd.merge(df_members, df_topic, on=['nameparty_id'], how='left')\n",
    "df_mem"
   ]
  },
  {
   "cell_type": "code",
   "execution_count": null,
   "metadata": {},
   "outputs": [],
   "source": [
    "df_mem['NOM1D'].isna().sum()"
   ]
  },
  {
   "cell_type": "code",
   "execution_count": null,
   "metadata": {},
   "outputs": [],
   "source": [
    "with open(\"df_member_fv_per_topic_nominate_3.tsv\", \"w+\") as f:\n",
    "    df_mem.to_csv(f, sep=\"\\t\", index=None)"
   ]
  },
  {
   "cell_type": "markdown",
   "metadata": {},
   "source": [
    "### NEW TOPICS"
   ]
  },
  {
   "cell_type": "code",
   "execution_count": null,
   "metadata": {},
   "outputs": [],
   "source": [
    "bills = pd.read_csv(\"df_bills_fv_with_topics_3.tsv\", sep='\\t')\n",
    "bills"
   ]
  },
  {
   "cell_type": "code",
   "execution_count": null,
   "metadata": {},
   "outputs": [],
   "source": [
    "cols = ['congress', 'bill_number', 'topic_with_coherence']\n",
    "bills = bills[cols]\n",
    "bills = bills.drop_duplicates()\n",
    "bills"
   ]
  },
  {
   "cell_type": "code",
   "execution_count": null,
   "metadata": {},
   "outputs": [],
   "source": [
    "bill93 = pd.read_csv(\"bills_93.csv\", sep=',')\n",
    "bill93 = pd.merge(bill93, bills, on=['congress', 'bill_number'], how='left')\n",
    "bill93.drop(columns=['topic'], inplace=True)\n",
    "bill93"
   ]
  },
  {
   "cell_type": "code",
   "execution_count": null,
   "metadata": {},
   "outputs": [],
   "source": [
    "for congress_num in range(93, 119):\n",
    "    filename = f\"bills_{congress_num}.csv\"\n",
    "    bill_df = pd.read_csv(filename, sep=',')\n",
    "    print(len(bill_df))\n",
    "\n",
    "    merged_df = pd.merge(bill_df, bills, on=['congress', 'bill_number'], how='left')\n",
    "    print(len(merged_df))\n",
    "    \n",
    "    merged_df.drop(columns=['topic'], inplace=True)\n",
    "    \n",
    "    output_filename = f\"bills_{congress_num}.csv\"\n",
    "    merged_df.to_csv(output_filename, index=False)\n"
   ]
  },
  {
   "cell_type": "code",
   "execution_count": null,
   "metadata": {},
   "outputs": [],
   "source": [
    "df = pd.read_csv('df_bills_topic_enr.tsv', sep='\\t')\n",
    "df"
   ]
  },
  {
   "cell_type": "code",
   "execution_count": null,
   "metadata": {},
   "outputs": [],
   "source": [
    "import pandas as pd\n",
    "df_legis = pd.read_csv('legislators-current.csv', sep=',')\n",
    "df_legis_his = pd.read_csv('legislators-historical.csv', sep=',')\n",
    "df_legis"
   ]
  },
  {
   "cell_type": "code",
   "execution_count": null,
   "metadata": {},
   "outputs": [],
   "source": [
    "df_93 = pd.read_csv('legislators_93.0.csv', sep=',')\n",
    "df_93"
   ]
  },
  {
   "cell_type": "code",
   "execution_count": null,
   "metadata": {},
   "outputs": [],
   "source": [
    "cols = ['type', 'thomas_id']\n",
    "df_legis = df_legis[cols]\n",
    "df_legis_his = df_legis_his[cols]\n",
    "df_legis = pd.concat([df_legis, df_legis_his], ignore_index=True)\n",
    "df_legis = df_legis.dropna(subset=['thomas_id'])\n",
    "df_legis"
   ]
  },
  {
   "cell_type": "code",
   "execution_count": null,
   "metadata": {},
   "outputs": [],
   "source": [
    "df_legis['thomas_id'] = df_legis['thomas_id'].astype(int)\n",
    "df_legis"
   ]
  },
  {
   "cell_type": "code",
   "execution_count": null,
   "metadata": {},
   "outputs": [],
   "source": [
    "df_93 = pd.merge(df_93, df_legis, on=['thomas_id'], how='left')\n",
    "df_93"
   ]
  },
  {
   "cell_type": "code",
   "execution_count": null,
   "metadata": {},
   "outputs": [],
   "source": [
    "df_93.to_csv('legislators_93.csv', index=False)"
   ]
  },
  {
   "cell_type": "code",
   "execution_count": null,
   "metadata": {},
   "outputs": [],
   "source": [
    "df_94 = pd.read_csv('legislators_94.0.csv', sep=',')\n",
    "df_95 = pd.read_csv('legislators_95.0.csv', sep=',')\n",
    "df_96 = pd.read_csv('legislators_96.0.csv', sep=',')\n",
    "df_97 = pd.read_csv('legislators_97.0.csv', sep=',')\n",
    "df_98 = pd.read_csv('legislators_98.0.csv', sep=',')\n",
    "df_99 = pd.read_csv('legislators_99.0.csv', sep=',')\n",
    "df_100 = pd.read_csv('legislators_100.0.csv', sep=',')\n",
    "df_101 = pd.read_csv('legislators_101.0.csv', sep=',')\n",
    "df_102 = pd.read_csv('legislators_102.0.csv', sep=',')\n",
    "df_103 = pd.read_csv('legislators_103.0.csv', sep=',')\n",
    "df_104 = pd.read_csv('legislators_104.0.csv', sep=',')\n",
    "df_105 = pd.read_csv('legislators_105.0.csv', sep=',')\n",
    "df_106 = pd.read_csv('legislators_106.0.csv', sep=',')\n",
    "df_107 = pd.read_csv('legislators_107.0.csv', sep=',')\n",
    "df_108 = pd.read_csv('legislators_108.0.csv', sep=',')\n",
    "df_109 = pd.read_csv('legislators_109.0.csv', sep=',')\n",
    "df_110 = pd.read_csv('legislators_110.0.csv', sep=',')\n",
    "df_111 = pd.read_csv('legislators_111.0.csv', sep=',')\n",
    "df_112 = pd.read_csv('legislators_112.0.csv', sep=',')"
   ]
  },
  {
   "cell_type": "code",
   "execution_count": null,
   "metadata": {},
   "outputs": [],
   "source": [
    "df_94 = pd.merge(df_94, df_legis, on=['thomas_id'], how='left')\n",
    "df_95 = pd.merge(df_95, df_legis, on=['thomas_id'], how='left')\n",
    "df_96 = pd.merge(df_96, df_legis, on=['thomas_id'], how='left')\n",
    "df_97 = pd.merge(df_97, df_legis, on=['thomas_id'], how='left')\n",
    "df_98 = pd.merge(df_98, df_legis, on=['thomas_id'], how='left')\n",
    "df_99 = pd.merge(df_99, df_legis, on=['thomas_id'], how='left')\n",
    "df_100 = pd.merge(df_100, df_legis, on=['thomas_id'], how='left')\n",
    "df_101 = pd.merge(df_101, df_legis, on=['thomas_id'], how='left')\n",
    "df_102 = pd.merge(df_102, df_legis, on=['thomas_id'], how='left')\n",
    "df_103 = pd.merge(df_103, df_legis, on=['thomas_id'], how='left')\n",
    "df_104 = pd.merge(df_104, df_legis, on=['thomas_id'], how='left')\n",
    "df_105 = pd.merge(df_105, df_legis, on=['thomas_id'], how='left')\n",
    "df_106 = pd.merge(df_106, df_legis, on=['thomas_id'], how='left')\n",
    "df_107 = pd.merge(df_107, df_legis, on=['thomas_id'], how='left')\n",
    "df_108 = pd.merge(df_108, df_legis, on=['thomas_id'], how='left')\n",
    "df_109 = pd.merge(df_109, df_legis, on=['thomas_id'], how='left')\n",
    "df_110 = pd.merge(df_110, df_legis, on=['thomas_id'], how='left')\n",
    "df_111 = pd.merge(df_111, df_legis, on=['thomas_id'], how='left')\n",
    "df_112 = pd.merge(df_112, df_legis, on=['thomas_id'], how='left')"
   ]
  },
  {
   "cell_type": "code",
   "execution_count": null,
   "metadata": {},
   "outputs": [],
   "source": [
    "df_94['type'].isna().sum()\n",
    "df_95['type'].isna().sum()\n",
    "df_96['type'].isna().sum()\n",
    "df_97['type'].isna().sum()\n",
    "df_98['type'].isna().sum()\n",
    "df_99['type'].isna().sum()\n",
    "df_100['type'].isna().sum()\n",
    "df_101['type'].isna().sum()\n",
    "df_102['type'].isna().sum()\n",
    "df_103['type'].isna().sum()\n",
    "df_104['type'].isna().sum()\n",
    "df_105['type'].isna().sum()\n",
    "df_106['type'].isna().sum()\n",
    "df_107['type'].isna().sum()\n",
    "df_108['type'].isna().sum()\n",
    "df_109['type'].isna().sum()\n",
    "df_110['type'].isna().sum()\n",
    "df_111['type'].isna().sum()\n",
    "df_112['type'].isna().sum()"
   ]
  },
  {
   "cell_type": "code",
   "execution_count": null,
   "metadata": {},
   "outputs": [],
   "source": [
    "df_94.to_csv('legislators_94.csv', index=False)\n",
    "df_95.to_csv('legislators_95.csv', index=False)\n",
    "df_96.to_csv('legislators_96.csv', index=False)\n",
    "df_97.to_csv('legislators_97.csv', index=False)\n",
    "df_98.to_csv('legislators_98.csv', index=False)\n",
    "df_99.to_csv('legislators_99.csv', index=False)\n",
    "df_100.to_csv('legislators_100.csv', index=False)\n",
    "df_101.to_csv('legislators_101.csv', index=False)\n",
    "df_102.to_csv('legislators_102.csv', index=False)\n",
    "df_103.to_csv('legislators_103.csv', index=False)\n",
    "df_104.to_csv('legislators_104.csv', index=False)\n",
    "df_105.to_csv('legislators_105.csv', index=False)\n",
    "df_106.to_csv('legislators_106.csv', index=False)\n",
    "df_107.to_csv('legislators_107.csv', index=False)\n",
    "df_108.to_csv('legislators_108.csv', index=False)\n",
    "df_109.to_csv('legislators_109.csv', index=False)\n",
    "df_110.to_csv('legislators_110.csv', index=False)\n",
    "df_111.to_csv('legislators_111.csv', index=False)\n",
    "df_112.to_csv('legislators_112.csv', index=False)"
   ]
  },
  {
   "cell_type": "code",
   "execution_count": null,
   "metadata": {},
   "outputs": [],
   "source": [
    "df_113 = pd.read_csv('legislators_113.csv', sep=',')\n",
    "df_114 = pd.read_csv('legislators_114.csv', sep=',')\n",
    "df_115 = pd.read_csv('legislators_115.csv', sep=',')\n",
    "df_116 = pd.read_csv('legislators_116.csv', sep=',')\n",
    "df_117 = pd.read_csv('legislators_117.csv', sep=',')\n",
    "df_118 = pd.read_csv('legislators_118.csv', sep=',')"
   ]
  },
  {
   "cell_type": "code",
   "execution_count": null,
   "metadata": {},
   "outputs": [],
   "source": [
    "df_113['type'] = df_113['name'].str[:4].str.lower()\n",
    "df_114['type'] = df_114['name'].str[:4].str.lower()\n",
    "df_115['type'] = df_115['name'].str[:4].str.lower()\n",
    "df_116['type'] = df_116['name'].str[:4].str.lower()\n",
    "df_117['type'] = df_117['name'].str[:4].str.lower()\n",
    "df_118['type'] = df_118['name'].str[:4].str.lower()"
   ]
  },
  {
   "cell_type": "code",
   "execution_count": null,
   "metadata": {},
   "outputs": [],
   "source": [
    "df_113.to_csv('legislators_113.csv', index=False)\n",
    "df_114.to_csv('legislators_114.csv', index=False)\n",
    "df_115.to_csv('legislators_115.csv', index=False)\n",
    "df_116.to_csv('legislators_116.csv', index=False)\n",
    "df_117.to_csv('legislators_117.csv', index=False)\n",
    "df_118.to_csv('legislators_118.csv', index=False)"
   ]
  }
 ],
 "metadata": {
  "kernelspec": {
   "display_name": ".venv",
   "language": "python",
   "name": "python3"
  },
  "language_info": {
   "codemirror_mode": {
    "name": "ipython",
    "version": 3
   },
   "file_extension": ".py",
   "mimetype": "text/x-python",
   "name": "python",
   "nbconvert_exporter": "python",
   "pygments_lexer": "ipython3",
   "version": "3.11.6"
  }
 },
 "nbformat": 4,
 "nbformat_minor": 2
}
